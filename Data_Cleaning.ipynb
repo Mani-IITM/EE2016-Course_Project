{
  "nbformat": 4,
  "nbformat_minor": 0,
  "metadata": {
    "colab": {
      "name": "Data_Cleaning.ipynb",
      "provenance": [],
      "collapsed_sections": []
    },
    "kernelspec": {
      "name": "python3",
      "display_name": "Python 3"
    }
  },
  "cells": [
    {
      "cell_type": "markdown",
      "metadata": {
        "id": "-_D0QWD8Wscq"
      },
      "source": [
        "FUNCTION OF THE FOLLOWING CODE BLOCK:\n",
        "\n",
        " Example : data 0x03E0  01 94  .”\n",
        " to\n",
        " \"0194\";"
      ]
    },
    {
      "cell_type": "code",
      "metadata": {
        "id": "T_GeduEzuSvm"
      },
      "source": [
        "f = open(\"input.txt\", \"r\")\n",
        "f1 = open(\"output.txt\", \"w\")\n",
        "for S in f:\n",
        "   f1.write(\"\\\"\")\n",
        "   f1.write(S[13:15])\n",
        "   f1.write(S[16:18])\n",
        "   f1.write(\"\\\";\")\n",
        "f.close()\n",
        "f1.close()"
      ],
      "execution_count": 12,
      "outputs": []
    },
    {
      "cell_type": "markdown",
      "metadata": {
        "id": "onRTo6kdV95n"
      },
      "source": [
        "FUNCTION OF THE FOLLOWING CODE BLOCK:\n",
        "\n",
        "Adds '0x' to the beginning of each number and ',' to the end of each one."
      ]
    },
    {
      "cell_type": "code",
      "metadata": {
        "id": "45ggetRXvLgi"
      },
      "source": [
        "f = open(\"input.txt\", \"r\")\n",
        "f1 = open(\"output.txt\", \"w\")\n",
        "for S in f:\n",
        "   f1.write(\" 0x\")\n",
        "   f1.write(S[0:2])\n",
        "   f1.write(\",\")\n",
        "f.close()\n",
        "f1.close()"
      ],
      "execution_count": 10,
      "outputs": []
    },
    {
      "cell_type": "code",
      "metadata": {
        "id": "9x5prCRqCpEv"
      },
      "source": [
        ""
      ],
      "execution_count": null,
      "outputs": []
    },
    {
      "cell_type": "code",
      "metadata": {
        "id": "_to_TelVvc9U"
      },
      "source": [
        ""
      ],
      "execution_count": null,
      "outputs": []
    }
  ]
}